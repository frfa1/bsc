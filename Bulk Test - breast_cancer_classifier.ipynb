{
 "cells": [
  {
   "cell_type": "code",
   "execution_count": 11,
   "metadata": {},
   "outputs": [],
   "source": [
    "import sys\n",
    "import os\n",
    "\n",
    "# Inserting siebling folder to sys. Ensures other code can be ran\n",
    "# Note: Must have breast_cancer_classifier folder in the parent of the current folder\n",
    "sys.path.insert(1, os.path.abspath(\"../breast_cancer_classifier\"))"
   ]
  },
  {
   "cell_type": "code",
   "execution_count": 13,
   "metadata": {},
   "outputs": [],
   "source": [
    "import matplotlib.pyplot as plt\n",
    "from matplotlib.colors import LinearSegmentedColormap\n",
    "%matplotlib inline\n",
    "\n",
    "import numpy as np\n",
    "\n",
    "from src.modeling.run_model_single import (\n",
    "    load_model, load_inputs, process_augment_inputs, batch_to_tensor\n",
    ")\n",
    "import src.utilities.pickling as pickling"
   ]
  },
  {
   "cell_type": "code",
   "execution_count": 14,
   "metadata": {},
   "outputs": [],
   "source": [
    "shared_parameters = {\n",
    "    \"device_type\": \"cpu\", #gpu\n",
    "    \"gpu_number\": 0,\n",
    "    \"max_crop_noise\": (100, 100),\n",
    "    \"max_crop_size_noise\": 100,\n",
    "    \"batch_size\": 1,\n",
    "    \"seed\": 0,\n",
    "    \"augmentation\": True,\n",
    "    \"use_hdf5\": True,\n",
    "}"
   ]
  },
  {
   "cell_type": "code",
   "execution_count": null,
   "metadata": {},
   "outputs": [],
   "source": []
  },
  {
   "cell_type": "markdown",
   "metadata": {},
   "source": [
    "# Bulk Image-Only Model"
   ]
  },
  {
   "cell_type": "markdown",
   "metadata": {},
   "source": [
    "A dictionary containing the configuration parameters for image-only model, and load the corresponding weights."
   ]
  },
  {
   "cell_type": "code",
   "execution_count": null,
   "metadata": {},
   "outputs": [],
   "source": [
    "\n",
    "    random_number_generator = np.random.RandomState(shared_parameters[\"seed\"])\n",
    "\n",
    "    image_only_parameters = shared_parameters.copy()\n",
    "    image_only_parameters[\"view\"] = \"L-CC\"\n",
    "    image_only_parameters[\"use_heatmaps\"] = False\n",
    "    image_only_parameters[\"model_path\"] = \"models/ImageOnly__ModeImage_weights.p\"\n",
    "    model, device = load_model(image_only_parameters)"
   ]
  },
  {
   "cell_type": "markdown",
   "metadata": {},
   "source": []
  }
 ],
 "metadata": {
  "kernelspec": {
   "display_name": "Python 3",
   "language": "python",
   "name": "python3"
  },
  "language_info": {
   "codemirror_mode": {
    "name": "ipython",
    "version": 3
   },
   "file_extension": ".py",
   "mimetype": "text/x-python",
   "name": "python",
   "nbconvert_exporter": "python",
   "pygments_lexer": "ipython3",
   "version": "3.7.4"
  }
 },
 "nbformat": 4,
 "nbformat_minor": 2
}
