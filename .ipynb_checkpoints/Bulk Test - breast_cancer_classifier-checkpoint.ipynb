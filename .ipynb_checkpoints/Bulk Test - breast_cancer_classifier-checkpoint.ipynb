{
 "cells": [
  {
   "cell_type": "code",
   "execution_count": 11,
   "metadata": {},
   "outputs": [
    {
     "name": "stdout",
     "output_type": "stream",
     "text": [
      "['/mnt/d/Studie/Bachelor/Bachelor Project/bsc', '../breast_cancer_classifier', '/path/to/application/app/folder', '/path/to/application/app/folder', '/path/to/application/app/folder', '/path/to/application/app/folder', '/path/to/application/app/folder', '/home/frfa/anaconda3/lib/python37.zip', '/home/frfa/anaconda3/lib/python3.7', '/home/frfa/anaconda3/lib/python3.7/lib-dynload', '', '/home/frfa/.local/lib/python3.7/site-packages', '/home/frfa/anaconda3/lib/python3.7/site-packages', '/home/frfa/anaconda3/lib/python3.7/site-packages/IPython/extensions', '/home/frfa/.ipython']\n",
      "['/mnt/d/Studie/Bachelor/Bachelor Project/bsc', '/mnt/d/Studie/Bachelor/Bachelor Project', '../breast_cancer_classifier', '/path/to/application/app/folder', '/path/to/application/app/folder', '/path/to/application/app/folder', '/path/to/application/app/folder', '/path/to/application/app/folder', '/home/frfa/anaconda3/lib/python37.zip', '/home/frfa/anaconda3/lib/python3.7', '/home/frfa/anaconda3/lib/python3.7/lib-dynload', '', '/home/frfa/.local/lib/python3.7/site-packages', '/home/frfa/anaconda3/lib/python3.7/site-packages', '/home/frfa/anaconda3/lib/python3.7/site-packages/IPython/extensions', '/home/frfa/.ipython']\n"
     ]
    }
   ],
   "source": [
    "import sys\n",
    "import os\n",
    "\n",
    "sys.path.insert(1, os.path.dirname(os.path.abspath(\"../breast_cancer_classifier\")))\n",
    "print(sys.path)"
   ]
  },
  {
   "cell_type": "code",
   "execution_count": null,
   "metadata": {},
   "outputs": [],
   "source": []
  }
 ],
 "metadata": {
  "kernelspec": {
   "display_name": "Python 3",
   "language": "python",
   "name": "python3"
  },
  "language_info": {
   "codemirror_mode": {
    "name": "ipython",
    "version": 3
   },
   "file_extension": ".py",
   "mimetype": "text/x-python",
   "name": "python",
   "nbconvert_exporter": "python",
   "pygments_lexer": "ipython3",
   "version": "3.7.4"
  }
 },
 "nbformat": 4,
 "nbformat_minor": 2
}
