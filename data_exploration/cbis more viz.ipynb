{
 "cells": [
  {
   "cell_type": "code",
   "execution_count": 28,
   "id": "dd17ab02",
   "metadata": {},
   "outputs": [],
   "source": [
    "import pandas as pd\n",
    "import os, sys\n",
    "import matplotlib as plt\n",
    "\n",
    "# Inserting parent folder in sys, to allow imports\n",
    "sys.path.append(\"..\")\n",
    "from load_preprocess.load_meta import get_cbis_test\n",
    "from load_preprocess.load_meta import get_inbreast"
   ]
  },
  {
   "cell_type": "code",
   "execution_count": 1,
   "id": "75829055",
   "metadata": {},
   "outputs": [
    {
     "ename": "NameError",
     "evalue": "name 'get_cbis_test' is not defined",
     "output_type": "error",
     "traceback": [
      "\u001b[0;31m---------------------------------------------------------------------------\u001b[0m",
      "\u001b[0;31mNameError\u001b[0m                                 Traceback (most recent call last)",
      "\u001b[0;32m/tmp/ipykernel_1239/833583518.py\u001b[0m in \u001b[0;36m<module>\u001b[0;34m\u001b[0m\n\u001b[0;32m----> 1\u001b[0;31m \u001b[0mfull_meta\u001b[0m \u001b[0;34m=\u001b[0m \u001b[0mget_cbis_test\u001b[0m\u001b[0;34m(\u001b[0m\u001b[0mwhole_image_labels\u001b[0m\u001b[0;34m=\u001b[0m\u001b[0;32mTrue\u001b[0m\u001b[0;34m)\u001b[0m\u001b[0;34m\u001b[0m\u001b[0;34m\u001b[0m\u001b[0m\n\u001b[0m",
      "\u001b[0;31mNameError\u001b[0m: name 'get_cbis_test' is not defined"
     ]
    }
   ],
   "source": [
    "full_meta = get_cbis_test(whole_image_labels=False)"
   ]
  },
  {
   "cell_type": "code",
   "execution_count": 2,
   "id": "56255dd1",
   "metadata": {},
   "outputs": [
    {
     "ename": "NameError",
     "evalue": "name 'full_meta' is not defined",
     "output_type": "error",
     "traceback": [
      "\u001b[0;31m---------------------------------------------------------------------------\u001b[0m",
      "\u001b[0;31mNameError\u001b[0m                                 Traceback (most recent call last)",
      "\u001b[0;32m/tmp/ipykernel_1239/3597181574.py\u001b[0m in \u001b[0;36m<module>\u001b[0;34m\u001b[0m\n\u001b[0;32m----> 1\u001b[0;31m \u001b[0mfull_meta\u001b[0m\u001b[0;34m\u001b[0m\u001b[0;34m\u001b[0m\u001b[0m\n\u001b[0m",
      "\u001b[0;31mNameError\u001b[0m: name 'full_meta' is not defined"
     ]
    }
   ],
   "source": [
    "full_meta"
   ]
  },
  {
   "cell_type": "code",
   "execution_count": 14,
   "id": "e45e587f",
   "metadata": {},
   "outputs": [
    {
     "data": {
      "text/plain": [
       "Index(['patient_id', 'breast_density', 'left or right breast', 'image view',\n",
       "       'abnormality id', 'abnormality type', 'calc type', 'calc distribution',\n",
       "       'assessment', 'pathology', 'subtlety', 'image file path',\n",
       "       'cropped image file path', 'ROI mask file path', 'mass shape',\n",
       "       'mass margins', 'Subject ID', 'Series UID', 'Collection',\n",
       "       '3rd Party Analysis', 'Data Description URI', 'Study UID',\n",
       "       'Study Description', 'Study Date', 'Series Description', 'Manufacturer',\n",
       "       'Modality', 'SOP Class Name', 'SOP Class UID', 'Number of Images',\n",
       "       'Unnamed: 14', 'File Size', 'File Location', 'Download Timestamp'],\n",
       "      dtype='object')"
      ]
     },
     "execution_count": 14,
     "metadata": {},
     "output_type": "execute_result"
    }
   ],
   "source": [
    "full_meta.columns"
   ]
  },
  {
   "cell_type": "code",
   "execution_count": 22,
   "id": "484e44a9",
   "metadata": {},
   "outputs": [
    {
     "name": "stdout",
     "output_type": "stream",
     "text": [
      "Unique patients & unique full mammograms: 349 645\n"
     ]
    }
   ],
   "source": [
    "print(\"Unique patients & unique full mammograms:\", \n",
    "      full_meta[\"patient_id\"].nunique(), full_meta[\"Subject ID\"].nunique()\n",
    ")"
   ]
  },
  {
   "cell_type": "code",
   "execution_count": 31,
   "id": "635f6dfa",
   "metadata": {},
   "outputs": [
    {
     "data": {
      "text/plain": [
       "assessment\n",
       "0              46\n",
       "1               2\n",
       "2              85\n",
       "3             109\n",
       "4             347\n",
       "5             115\n",
       "dtype: int64"
      ]
     },
     "execution_count": 31,
     "metadata": {},
     "output_type": "execute_result"
    }
   ],
   "source": [
    "full_meta.value_counts(subset=[\"assessment\"], sort=False) "
   ]
  },
  {
   "cell_type": "code",
   "execution_count": 24,
   "id": "679626b3",
   "metadata": {},
   "outputs": [
    {
     "name": "stderr",
     "output_type": "stream",
     "text": [
      "\n",
      "Bad key savefig.frameon in file /home/frfa/anaconda3/lib/python3.7/site-packages/matplotlib/mpl-data/stylelib/_classic_test.mplstyle, line 421 ('savefig.frameon : True')\n",
      "You probably need to get an updated matplotlibrc file from\n",
      "https://github.com/matplotlib/matplotlib/blob/v3.4.3/matplotlibrc.template\n",
      "or from the matplotlib source distribution\n",
      "\n",
      "Bad key verbose.level in file /home/frfa/anaconda3/lib/python3.7/site-packages/matplotlib/mpl-data/stylelib/_classic_test.mplstyle, line 472 ('verbose.level  : silent      # one of silent, helpful, debug, debug-annoying')\n",
      "You probably need to get an updated matplotlibrc file from\n",
      "https://github.com/matplotlib/matplotlib/blob/v3.4.3/matplotlibrc.template\n",
      "or from the matplotlib source distribution\n",
      "\n",
      "Bad key verbose.fileo in file /home/frfa/anaconda3/lib/python3.7/site-packages/matplotlib/mpl-data/stylelib/_classic_test.mplstyle, line 473 ('verbose.fileo  : sys.stdout  # a log filename, sys.stdout or sys.stderr')\n",
      "You probably need to get an updated matplotlibrc file from\n",
      "https://github.com/matplotlib/matplotlib/blob/v3.4.3/matplotlibrc.template\n",
      "or from the matplotlib source distribution\n",
      "In /home/frfa/anaconda3/lib/python3.7/site-packages/matplotlib/mpl-data/stylelib/_classic_test.mplstyle: \n",
      "The text.latex.preview rcparam was deprecated in Matplotlib 3.3 and will be removed two minor releases later.\n",
      "In /home/frfa/anaconda3/lib/python3.7/site-packages/matplotlib/mpl-data/stylelib/_classic_test.mplstyle: \n",
      "The mathtext.fallback_to_cm rcparam was deprecated in Matplotlib 3.3 and will be removed two minor releases later.\n",
      "In /home/frfa/anaconda3/lib/python3.7/site-packages/matplotlib/mpl-data/stylelib/_classic_test.mplstyle: Support for setting the 'mathtext.fallback_to_cm' rcParam is deprecated since 3.3 and will be removed two minor releases later; use 'mathtext.fallback : 'cm' instead.\n",
      "In /home/frfa/anaconda3/lib/python3.7/site-packages/matplotlib/mpl-data/stylelib/_classic_test.mplstyle: \n",
      "The validate_bool_maybe_none function was deprecated in Matplotlib 3.3 and will be removed two minor releases later.\n",
      "In /home/frfa/anaconda3/lib/python3.7/site-packages/matplotlib/mpl-data/stylelib/_classic_test.mplstyle: \n",
      "The savefig.jpeg_quality rcparam was deprecated in Matplotlib 3.3 and will be removed two minor releases later.\n",
      "In /home/frfa/anaconda3/lib/python3.7/site-packages/matplotlib/mpl-data/stylelib/_classic_test.mplstyle: \n",
      "The keymap.all_axes rcparam was deprecated in Matplotlib 3.3 and will be removed two minor releases later.\n",
      "In /home/frfa/anaconda3/lib/python3.7/site-packages/matplotlib/mpl-data/stylelib/_classic_test.mplstyle: \n",
      "The animation.avconv_path rcparam was deprecated in Matplotlib 3.3 and will be removed two minor releases later.\n",
      "In /home/frfa/anaconda3/lib/python3.7/site-packages/matplotlib/mpl-data/stylelib/_classic_test.mplstyle: \n",
      "The animation.avconv_args rcparam was deprecated in Matplotlib 3.3 and will be removed two minor releases later.\n"
     ]
    },
    {
     "data": {
      "text/plain": [
       "<AxesSubplot:>"
      ]
     },
     "execution_count": 24,
     "metadata": {},
     "output_type": "execute_result"
    },
    {
     "data": {
      "image/png": "[encoded data removed]",
      "text/plain": [
       "<Figure size 432x288 with 1 Axes>"
      ]
     },
     "metadata": {
      "needs_background": "light"
     },
     "output_type": "display_data"
    }
   ],
   "source": [
    "full_meta[\"assessment\"].value_counts().sort_values().plot(kind = 'barh')"
   ]
  },
  {
   "cell_type": "code",
   "execution_count": 29,
   "id": "ebfa2881",
   "metadata": {},
   "outputs": [],
   "source": [
    "inbreast_meta = get_inbreast()"
   ]
  },
  {
   "cell_type": "code",
   "execution_count": 30,
   "id": "13ca1d1d",
   "metadata": {
    "scrolled": true
   },
   "outputs": [
    {
     "data": {
      "text/html": [
       "<div>\n",
       "<style scoped>\n",
       "    .dataframe tbody tr th:only-of-type {\n",
       "        vertical-align: middle;\n",
       "    }\n",
       "\n",
       "    .dataframe tbody tr th {\n",
       "        vertical-align: top;\n",
       "    }\n",
       "\n",
       "    .dataframe thead th {\n",
       "        text-align: right;\n",
       "    }\n",
       "</style>\n",
       "<table border=\"1\" class=\"dataframe\">\n",
       "  <thead>\n",
       "    <tr style=\"text-align: right;\">\n",
       "      <th></th>\n",
       "      <th>Patient ID</th>\n",
       "      <th>Patient age</th>\n",
       "      <th>Laterality</th>\n",
       "      <th>View</th>\n",
       "      <th>Acquisition date</th>\n",
       "      <th>File Name</th>\n",
       "      <th>ACR</th>\n",
       "      <th>Bi-Rads</th>\n",
       "      <th>Full File Name</th>\n",
       "      <th>Patient</th>\n",
       "      <th>Medical Report</th>\n",
       "      <th>true_benign</th>\n",
       "      <th>true_malignant</th>\n",
       "    </tr>\n",
       "  </thead>\n",
       "  <tbody>\n",
       "    <tr>\n",
       "      <th>0</th>\n",
       "      <td>removed</td>\n",
       "      <td>removed</td>\n",
       "      <td>R</td>\n",
       "      <td>CC</td>\n",
       "      <td>200902</td>\n",
       "      <td>20586908</td>\n",
       "      <td>2.0</td>\n",
       "      <td>2</td>\n",
       "      <td>20586908_6c613a14b80a8591_MG_R_CC_ANON.png</td>\n",
       "      <td>6c613a14b80a8591</td>\n",
       "      <td>\\nDoente observada a 2009 02.\\n\\nOs estudos ma...</td>\n",
       "      <td>1</td>\n",
       "      <td>0</td>\n",
       "    </tr>\n",
       "    <tr>\n",
       "      <th>1</th>\n",
       "      <td>removed</td>\n",
       "      <td>removed</td>\n",
       "      <td>L</td>\n",
       "      <td>CC</td>\n",
       "      <td>200902</td>\n",
       "      <td>20586934</td>\n",
       "      <td>2.0</td>\n",
       "      <td>5</td>\n",
       "      <td>20586934_6c613a14b80a8591_MG_L_CC_ANON.png</td>\n",
       "      <td>6c613a14b80a8591</td>\n",
       "      <td>\\nDoente observada a 2009 02.\\n\\nOs estudos ma...</td>\n",
       "      <td>0</td>\n",
       "      <td>1</td>\n",
       "    </tr>\n",
       "    <tr>\n",
       "      <th>2</th>\n",
       "      <td>removed</td>\n",
       "      <td>removed</td>\n",
       "      <td>R</td>\n",
       "      <td>MLO</td>\n",
       "      <td>200902</td>\n",
       "      <td>20586960</td>\n",
       "      <td>2.0</td>\n",
       "      <td>2</td>\n",
       "      <td>20586960_6c613a14b80a8591_MG_R_ML_ANON.png</td>\n",
       "      <td>6c613a14b80a8591</td>\n",
       "      <td>\\nDoente observada a 2009 02.\\n\\nOs estudos ma...</td>\n",
       "      <td>1</td>\n",
       "      <td>0</td>\n",
       "    </tr>\n",
       "    <tr>\n",
       "      <th>3</th>\n",
       "      <td>removed</td>\n",
       "      <td>removed</td>\n",
       "      <td>L</td>\n",
       "      <td>MLO</td>\n",
       "      <td>200902</td>\n",
       "      <td>20586986</td>\n",
       "      <td>2.0</td>\n",
       "      <td>5</td>\n",
       "      <td>20586986_6c613a14b80a8591_MG_L_ML_ANON.png</td>\n",
       "      <td>6c613a14b80a8591</td>\n",
       "      <td>\\nDoente observada a 2009 02.\\n\\nOs estudos ma...</td>\n",
       "      <td>0</td>\n",
       "      <td>1</td>\n",
       "    </tr>\n",
       "    <tr>\n",
       "      <th>4</th>\n",
       "      <td>removed</td>\n",
       "      <td>removed</td>\n",
       "      <td>R</td>\n",
       "      <td>CC</td>\n",
       "      <td>200902</td>\n",
       "      <td>20587054</td>\n",
       "      <td>2.0</td>\n",
       "      <td>4c</td>\n",
       "      <td>20587054_b6a4f750c6df4f90_MG_R_CC_ANON.png</td>\n",
       "      <td>b6a4f750c6df4f90</td>\n",
       "      <td>\\nDoente observada a 2009 02.\\n\\nO estudo imag...</td>\n",
       "      <td>0</td>\n",
       "      <td>1</td>\n",
       "    </tr>\n",
       "    <tr>\n",
       "      <th>...</th>\n",
       "      <td>...</td>\n",
       "      <td>...</td>\n",
       "      <td>...</td>\n",
       "      <td>...</td>\n",
       "      <td>...</td>\n",
       "      <td>...</td>\n",
       "      <td>...</td>\n",
       "      <td>...</td>\n",
       "      <td>...</td>\n",
       "      <td>...</td>\n",
       "      <td>...</td>\n",
       "      <td>...</td>\n",
       "      <td>...</td>\n",
       "    </tr>\n",
       "    <tr>\n",
       "      <th>405</th>\n",
       "      <td>removed</td>\n",
       "      <td>removed</td>\n",
       "      <td>L</td>\n",
       "      <td>CC</td>\n",
       "      <td>201001</td>\n",
       "      <td>53587599</td>\n",
       "      <td>2.0</td>\n",
       "      <td>2</td>\n",
       "      <td>53587599_11e6732579acf692_MG_L_CC_ANON.png</td>\n",
       "      <td>11e6732579acf692</td>\n",
       "      <td>\\nDoente observada a 2010 01 com antecedentes ...</td>\n",
       "      <td>1</td>\n",
       "      <td>0</td>\n",
       "    </tr>\n",
       "    <tr>\n",
       "      <th>406</th>\n",
       "      <td>removed</td>\n",
       "      <td>removed</td>\n",
       "      <td>R</td>\n",
       "      <td>CC</td>\n",
       "      <td>201001</td>\n",
       "      <td>53587663</td>\n",
       "      <td>1.0</td>\n",
       "      <td>2</td>\n",
       "      <td>53587663_5fb370d4c1c71974_MG_R_CC_ANON.png</td>\n",
       "      <td>5fb370d4c1c71974</td>\n",
       "      <td>\\nDoente observada a 2010 01 com antecedentes ...</td>\n",
       "      <td>1</td>\n",
       "      <td>0</td>\n",
       "    </tr>\n",
       "    <tr>\n",
       "      <th>407</th>\n",
       "      <td>removed</td>\n",
       "      <td>removed</td>\n",
       "      <td>L</td>\n",
       "      <td>MLO</td>\n",
       "      <td>201001</td>\n",
       "      <td>53587690</td>\n",
       "      <td>1.0</td>\n",
       "      <td>1</td>\n",
       "      <td>53587690_5fb370d4c1c71974_MG_L_ML_ANON.png</td>\n",
       "      <td>5fb370d4c1c71974</td>\n",
       "      <td>\\nDoente observada a 2010 01 com antecedentes ...</td>\n",
       "      <td>1</td>\n",
       "      <td>0</td>\n",
       "    </tr>\n",
       "    <tr>\n",
       "      <th>408</th>\n",
       "      <td>removed</td>\n",
       "      <td>removed</td>\n",
       "      <td>R</td>\n",
       "      <td>MLO</td>\n",
       "      <td>201001</td>\n",
       "      <td>53587717</td>\n",
       "      <td>1.0</td>\n",
       "      <td>2</td>\n",
       "      <td>53587717_5fb370d4c1c71974_MG_R_ML_ANON.png</td>\n",
       "      <td>5fb370d4c1c71974</td>\n",
       "      <td>\\nDoente observada a 2010 01 com antecedentes ...</td>\n",
       "      <td>1</td>\n",
       "      <td>0</td>\n",
       "    </tr>\n",
       "    <tr>\n",
       "      <th>409</th>\n",
       "      <td>removed</td>\n",
       "      <td>removed</td>\n",
       "      <td>L</td>\n",
       "      <td>CC</td>\n",
       "      <td>201001</td>\n",
       "      <td>53587744</td>\n",
       "      <td>1.0</td>\n",
       "      <td>1</td>\n",
       "      <td>53587744_5fb370d4c1c71974_MG_L_CC_ANON.png</td>\n",
       "      <td>5fb370d4c1c71974</td>\n",
       "      <td>\\nDoente observada a 2010 01 com antecedentes ...</td>\n",
       "      <td>1</td>\n",
       "      <td>0</td>\n",
       "    </tr>\n",
       "  </tbody>\n",
       "</table>\n",
       "<p>410 rows × 13 columns</p>\n",
       "</div>"
      ],
      "text/plain": [
       "    Patient ID Patient age Laterality View  Acquisition date  File Name  ACR  \\\n",
       "0      removed     removed          R   CC            200902   20586908  2.0   \n",
       "1      removed     removed          L   CC            200902   20586934  2.0   \n",
       "2      removed     removed          R  MLO            200902   20586960  2.0   \n",
       "3      removed     removed          L  MLO            200902   20586986  2.0   \n",
       "4      removed     removed          R   CC            200902   20587054  2.0   \n",
       "..         ...         ...        ...  ...               ...        ...  ...   \n",
       "405    removed     removed          L   CC            201001   53587599  2.0   \n",
       "406    removed     removed          R   CC            201001   53587663  1.0   \n",
       "407    removed     removed          L  MLO            201001   53587690  1.0   \n",
       "408    removed     removed          R  MLO            201001   53587717  1.0   \n",
       "409    removed     removed          L   CC            201001   53587744  1.0   \n",
       "\n",
       "    Bi-Rads                              Full File Name           Patient  \\\n",
       "0         2  20586908_6c613a14b80a8591_MG_R_CC_ANON.png  6c613a14b80a8591   \n",
       "1         5  20586934_6c613a14b80a8591_MG_L_CC_ANON.png  6c613a14b80a8591   \n",
       "2         2  20586960_6c613a14b80a8591_MG_R_ML_ANON.png  6c613a14b80a8591   \n",
       "3         5  20586986_6c613a14b80a8591_MG_L_ML_ANON.png  6c613a14b80a8591   \n",
       "4        4c  20587054_b6a4f750c6df4f90_MG_R_CC_ANON.png  b6a4f750c6df4f90   \n",
       "..      ...                                         ...               ...   \n",
       "405       2  53587599_11e6732579acf692_MG_L_CC_ANON.png  11e6732579acf692   \n",
       "406       2  53587663_5fb370d4c1c71974_MG_R_CC_ANON.png  5fb370d4c1c71974   \n",
       "407       1  53587690_5fb370d4c1c71974_MG_L_ML_ANON.png  5fb370d4c1c71974   \n",
       "408       2  53587717_5fb370d4c1c71974_MG_R_ML_ANON.png  5fb370d4c1c71974   \n",
       "409       1  53587744_5fb370d4c1c71974_MG_L_CC_ANON.png  5fb370d4c1c71974   \n",
       "\n",
       "                                        Medical Report  true_benign  \\\n",
       "0    \\nDoente observada a 2009 02.\\n\\nOs estudos ma...            1   \n",
       "1    \\nDoente observada a 2009 02.\\n\\nOs estudos ma...            0   \n",
       "2    \\nDoente observada a 2009 02.\\n\\nOs estudos ma...            1   \n",
       "3    \\nDoente observada a 2009 02.\\n\\nOs estudos ma...            0   \n",
       "4    \\nDoente observada a 2009 02.\\n\\nO estudo imag...            0   \n",
       "..                                                 ...          ...   \n",
       "405  \\nDoente observada a 2010 01 com antecedentes ...            1   \n",
       "406  \\nDoente observada a 2010 01 com antecedentes ...            1   \n",
       "407  \\nDoente observada a 2010 01 com antecedentes ...            1   \n",
       "408  \\nDoente observada a 2010 01 com antecedentes ...            1   \n",
       "409  \\nDoente observada a 2010 01 com antecedentes ...            1   \n",
       "\n",
       "     true_malignant  \n",
       "0                 0  \n",
       "1                 1  \n",
       "2                 0  \n",
       "3                 1  \n",
       "4                 1  \n",
       "..              ...  \n",
       "405               0  \n",
       "406               0  \n",
       "407               0  \n",
       "408               0  \n",
       "409               0  \n",
       "\n",
       "[410 rows x 13 columns]"
      ]
     },
     "execution_count": 30,
     "metadata": {},
     "output_type": "execute_result"
    }
   ],
   "source": [
    "inbreast_meta"
   ]
  },
  {
   "cell_type": "code",
   "execution_count": 32,
   "id": "467a9375",
   "metadata": {},
   "outputs": [
    {
     "data": {
      "text/plain": [
       "Bi-Rads\n",
       "1           67\n",
       "2          220\n",
       "3           23\n",
       "4a          13\n",
       "4b           8\n",
       "4c          22\n",
       "5           49\n",
       "6            8\n",
       "dtype: int64"
      ]
     },
     "execution_count": 32,
     "metadata": {},
     "output_type": "execute_result"
    }
   ],
   "source": [
    "inbreast_meta.value_counts(subset=[\"Bi-Rads\"], sort=False) "
   ]
  },
  {
   "cell_type": "code",
   "execution_count": 33,
   "id": "059205cc",
   "metadata": {},
   "outputs": [
    {
     "data": {
      "text/plain": [
       "43"
      ]
     },
     "execution_count": 33,
     "metadata": {},
     "output_type": "execute_result"
    }
   ],
   "source": [
    "13+8+22"
   ]
  },
  {
   "cell_type": "code",
   "execution_count": 34,
   "id": "3dad45b4",
   "metadata": {},
   "outputs": [
    {
     "data": {
      "text/plain": [
       "0       2\n",
       "1       5\n",
       "2       2\n",
       "3       5\n",
       "4      4c\n",
       "       ..\n",
       "405     2\n",
       "406     2\n",
       "407     1\n",
       "408     2\n",
       "409     1\n",
       "Name: Bi-Rads, Length: 410, dtype: object"
      ]
     },
     "execution_count": 34,
     "metadata": {},
     "output_type": "execute_result"
    }
   ],
   "source": [
    "inbreast_meta[\"Bi-Rads\"]"
   ]
  },
  {
   "cell_type": "code",
   "execution_count": null,
   "id": "421f8fac",
   "metadata": {},
   "outputs": [],
   "source": []
  }
 ],
 "metadata": {
  "kernelspec": {
   "display_name": "Python 3 (ipykernel)",
   "language": "python",
   "name": "python3"
  },
  "language_info": {
   "codemirror_mode": {
    "name": "ipython",
    "version": 3
   },
   "file_extension": ".py",
   "mimetype": "text/x-python",
   "name": "python",
   "nbconvert_exporter": "python",
   "pygments_lexer": "ipython3",
   "version": "3.7.4"
  }
 },
 "nbformat": 4,
 "nbformat_minor": 5
}
